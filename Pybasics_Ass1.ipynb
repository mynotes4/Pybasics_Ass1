{
 "cells": [
  {
   "cell_type": "markdown",
   "id": "7cdcffa5",
   "metadata": {},
   "source": [
    "1. In the below elements which of them are values or an expression? eg:- values can be integer or string and expressions will be mathematical operators.\n",
    "\n",
    "1 * - expression\n",
    "\n",
    "2 'hello' - value\n",
    "\n",
    "3 -87.8 - value\n",
    "\n",
    "4 - - expression\n",
    "\n",
    "5 / - expression\n",
    "\n",
    "6 + - expression\n",
    "\n",
    "7 6 - value"
   ]
  },
  {
   "cell_type": "markdown",
   "id": "eff3c3a1",
   "metadata": {},
   "source": [
    "2. What is the difference between string and variable?\n",
    "\n",
    "Ans - A variable is a storage for information while string is a data type.\n",
    "      eg. x = \"Learn Python.\"\n",
    "          x is a variable which stores the data \"Learn Python.\" is data in form of string and = sign is used to assign data to x"
   ]
  },
  {
   "cell_type": "markdown",
   "id": "381b83b7",
   "metadata": {},
   "source": [
    "3. Describe three different data types.\n",
    "\n",
    "Ans - Integers ,\n",
    "      Strings ,\n",
    "      List"
   ]
  },
  {
   "cell_type": "markdown",
   "id": "675d8ff6",
   "metadata": {},
   "source": [
    "4. What is an expression made up of? What do all expressions do ?\n",
    "\n",
    "Ans - Expressions are combination pf operators and operands which produces some other value . Thus represants of values . "
   ]
  },
  {
   "cell_type": "markdown",
   "id": "bd6b0c19",
   "metadata": {},
   "source": [
    "5. This assignment statements, like spam = 10. What is the difference between an expression and a statement?\n",
    "\n",
    "Ans - Expressions are something that represents value while statement represent a action . \n",
    "      Evalution of expressions produces or returns a result or a value. While execution of a statement may or may not produce a value. It only does the actipn said by the statement.\n",
    "      spam = 10 is a action in which value 10 is assigned to 10. "
   ]
  },
  {
   "cell_type": "markdown",
   "id": "eddf3cd9",
   "metadata": {},
   "source": [
    "6. After running the following code, what does the variable bacon contain?\n",
    "\n",
    "bacon = 22\n",
    "\n",
    "bacon + 1\n",
    "\n",
    "Ans - bacon = 22 //value of bacon becomes 22\n",
    "\n",
    "      bacon + 1 // 1 is added to value stored in bacon but is not reassigned to bacon , thus it gives output as 23 but value of bacon remains as 22."
   ]
  },
  {
   "cell_type": "markdown",
   "id": "390eefdf",
   "metadata": {},
   "source": [
    "7. What should the values of the following two terms be?\n",
    "\n",
    "'spam' + 'spamspam'\n",
    "\n",
    "'spam' * 3\n",
    "\n",
    "Ans - 'spam' + 'spamspam' gives 'spamspamspam' as both the operands are strings . hence , string concatination takes place.\n",
    "\n",
    "      'spam' * 3 gives 'spamspamspam' because it indicates multiplacition/repeatation of string 3 times."
   ]
  },
  {
   "cell_type": "markdown",
   "id": "bf29d3c5",
   "metadata": {},
   "source": [
    "8. Why is eggs a valid variable name while 100 is invalid?\n",
    "\n",
    "Ans - According to rules for creating a variable name , variable name should start with a alphabet or underscore not with a number. Thus eggs is a valid variable while 100 is invalid."
   ]
  },
  {
   "cell_type": "markdown",
   "id": "b46b09cc",
   "metadata": {},
   "source": [
    "9. What three functions can be used to get the integer, floating-point number, or string version of a value?\n",
    "\n",
    "Ans - let x be a value.\n",
    "\n",
    "      To get integer - int(x)\n",
    "      \n",
    "      To get floating - point number - float(x)\n",
    "      \n",
    "      To get string - str(x)"
   ]
  },
  {
   "cell_type": "markdown",
   "id": "0bf7568c",
   "metadata": {},
   "source": [
    "10. Why does this expression cause an error? How can you fix it?\n",
    "\n",
    "'I have eaten ' + 99 + ' burritos.'\n",
    "\n",
    "Ans - The expression can only concatenate only strings but in this 99 is a integer. To fix it we have to remove 99 or convert in on to string.\n",
    "\n",
    "      2 methords for its conversion into strings\n",
    "      \n",
    "      Methord 1 : \n",
    "      \n",
    "      Type a) 'I have eaten ' + '99, + ' burritos.'\n",
    "      \n",
    "      Type b) 'I have eaten ' + \"99\" + ' burritos.'\n",
    "\n",
    "      Method 2 :\n",
    "      \n",
    "      'I have eaten ' + str(99) + ' burritos.'"
   ]
  },
  {
   "cell_type": "code",
   "execution_count": null,
   "id": "eb19fd60",
   "metadata": {},
   "outputs": [],
   "source": []
  }
 ],
 "metadata": {
  "kernelspec": {
   "display_name": "Python 3 (ipykernel)",
   "language": "python",
   "name": "python3"
  },
  "language_info": {
   "codemirror_mode": {
    "name": "ipython",
    "version": 3
   },
   "file_extension": ".py",
   "mimetype": "text/x-python",
   "name": "python",
   "nbconvert_exporter": "python",
   "pygments_lexer": "ipython3",
   "version": "3.9.12"
  }
 },
 "nbformat": 4,
 "nbformat_minor": 5
}
